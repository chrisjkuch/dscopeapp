{
 "cells": [
  {
   "cell_type": "markdown",
   "metadata": {},
   "source": [
    "# Chicago L Ridership\n",
    "\n",
    "This Jupyter Notebook analyzes the ridership of the Chicago e\"L\"evated public transportation system. Ridership numbers come from Chicago's open data portal, found here: https://data.cityofchicago.org/Transportation/CTA-Ridership-L-Station-Entries-Daily-Totals/5neh-572f"
   ]
  },
  {
   "cell_type": "code",
   "execution_count": 1,
   "metadata": {
    "collapsed": true
   },
   "outputs": [],
   "source": [
    "# Import pandas for our data analysis and matplotlib for our plotting\n",
    "import pandas as pd\n",
    "import matplotlib.pyplot as plt"
   ]
  },
  {
   "cell_type": "markdown",
   "metadata": {},
   "source": [
    "The questions of interest are: \n",
    "\n",
    "1. Which stop has the highest average ridership per day, and what is it?\n",
    "2. Which stop has the greatest standard deviation in weekday (exclude holidays) ridership per day, and what is it?\n",
    "\n",
    "I will go about this by importing the data into a pandas DataFrame, getting a feel for what the data can tell me about ridership numbers, then grouping the ridership numbers by weekday while finding a resource that lists holiday days and week days for the last 16 years."
   ]
  },
  {
   "cell_type": "code",
   "execution_count": 2,
   "metadata": {
    "collapsed": false
   },
   "outputs": [
    {
     "name": "stdout",
     "output_type": "stream",
     "text": [
      "                 date daytype  rides  station_id    stationname\n",
      "0 2016-11-24 18:00:00       W    905       41010       Rockwell\n",
      "1 2016-11-20 18:00:00       W   3538       41340        LaSalle\n",
      "2 2016-11-14 18:00:00       W   5095       41380      Bryn Mawr\n",
      "3 2016-11-08 18:00:00       W  16620       41450  Chicago/State\n",
      "4 2016-11-25 18:00:00       A   3130       40560  Jackson/State\n",
      "(1000, 5)\n"
     ]
    }
   ],
   "source": [
    "ridership = pd.read_json('https://data.cityofchicago.org/resource/mh5w-x5kh.json')\n",
    "print(ridership.head())\n",
    "print(ridership.shape)"
   ]
  },
  {
   "cell_type": "markdown",
   "metadata": {},
   "source": [
    "I'm not getting the full dataset this way. I think I need an AppToken to access the full dataset. Let's just download the json format to our local drive."
   ]
  },
  {
   "cell_type": "code",
   "execution_count": 3,
   "metadata": {
    "collapsed": false
   },
   "outputs": [
    {
     "name": "stdout",
     "output_type": "stream",
     "text": [
      "   station_id         stationname        date daytype  rides\n",
      "0       40010  Austin-Forest Park  01/01/2001       U    290\n",
      "1       40020         Harlem-Lake  01/01/2001       U    633\n",
      "2       40030        Pulaski-Lake  01/01/2001       U    483\n",
      "3       40040        Quincy/Wells  01/01/2001       U    374\n",
      "4       40050               Davis  01/01/2001       U    804\n",
      "(826894, 5)\n"
     ]
    }
   ],
   "source": [
    "ridership = pd.read_csv('ridership.csv')\n",
    "print(ridership.head())\n",
    "print(ridership.shape)"
   ]
  },
  {
   "cell_type": "markdown",
   "metadata": {},
   "source": [
    "That's more like it. Now, the API Docs give us the following useful information:\n",
    "\n",
    ">This list shows daily totals of ridership, by station entry, for each 'L' station dating back to 2001. Dataset shows entries at all turnstiles, combined, for each station. Daytypes are as follows: W=Weekday, A=Saturday, U=Sunday/Holiday. See attached readme file for information on how these numbers are calculated.\n",
    "\n",
    ">From https://dev.socrata.com/foundry/data.cityofchicago.org/mh5w-x5kh\n",
    "    \n",
    "So now we know that it should be easy enough for us to sort through the day for the second question. As to the first question, first I want to get a sense for how the ridership is changing by station.    "
   ]
  },
  {
   "cell_type": "code",
   "execution_count": 4,
   "metadata": {
    "collapsed": true
   },
   "outputs": [],
   "source": [
    "by_station = ridership.groupby(by='stationname')\n",
    " "
   ]
  },
  {
   "cell_type": "code",
   "execution_count": 7,
   "metadata": {
    "collapsed": false
   },
   "outputs": [],
   "source": [
    "fh = plt.figure(figsize=(12,9))\n",
    "ax = fh.add_subplot(111)\n",
    "for station, df in by_station:\n",
    "    df.plot(x='date', y='rides', ax=ax, label=station, legend=False, style={'linestyle':'None', 'marker': '.'})\n",
    "plt.show()"
   ]
  },
  {
   "cell_type": "code",
   "execution_count": null,
   "metadata": {
    "collapsed": true
   },
   "outputs": [],
   "source": []
  }
 ],
 "metadata": {
  "kernelspec": {
   "display_name": "Python [Root]",
   "language": "python",
   "name": "Python [Root]"
  },
  "language_info": {
   "codemirror_mode": {
    "name": "ipython",
    "version": 3
   },
   "file_extension": ".py",
   "mimetype": "text/x-python",
   "name": "python",
   "nbconvert_exporter": "python",
   "pygments_lexer": "ipython3",
   "version": "3.5.2"
  }
 },
 "nbformat": 4,
 "nbformat_minor": 2
}
